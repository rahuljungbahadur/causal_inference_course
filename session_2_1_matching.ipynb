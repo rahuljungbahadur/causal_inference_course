{
  "cells": [
    {
      "cell_type": "markdown",
      "metadata": {
        "id": "view-in-github",
        "colab_type": "text"
      },
      "source": [
        "<a href=\"https://colab.research.google.com/github/rahuljungbahadur/causal_inference_course/blob/main/session_2_1_matching.ipynb\" target=\"_parent\"><img src=\"https://colab.research.google.com/assets/colab-badge.svg\" alt=\"Open In Colab\"/></a>"
      ]
    },
    {
      "cell_type": "code",
      "source": [
        "# Colab may need these packages installed\n",
        "!apt install libgraphviz-dev\n",
        "!pip install pygraphviz\n",
        "%pip install dowhy graphviz pygraphviz"
      ],
      "metadata": {
        "colab": {
          "base_uri": "https://localhost:8080/"
        },
        "id": "vaSjYocHxbgP",
        "outputId": "8f236aea-5b49-4800-81d5-45e7c9bfed82"
      },
      "execution_count": null,
      "outputs": [
        {
          "output_type": "stream",
          "name": "stdout",
          "text": [
            "Reading package lists... Done\n",
            "Building dependency tree       \n",
            "Reading state information... Done\n",
            "The following package was automatically installed and is no longer required:\n",
            "  libnvidia-common-460\n",
            "Use 'apt autoremove' to remove it.\n",
            "The following additional packages will be installed:\n",
            "  libgail-common libgail18 libgtk2.0-0 libgtk2.0-bin libgtk2.0-common\n",
            "  libgvc6-plugins-gtk libxdot4\n",
            "Suggested packages:\n",
            "  gvfs\n",
            "The following NEW packages will be installed:\n",
            "  libgail-common libgail18 libgraphviz-dev libgtk2.0-0 libgtk2.0-bin\n",
            "  libgtk2.0-common libgvc6-plugins-gtk libxdot4\n",
            "0 upgraded, 8 newly installed, 0 to remove and 5 not upgraded.\n",
            "Need to get 2,120 kB of archives.\n",
            "After this operation, 7,128 kB of additional disk space will be used.\n",
            "Get:1 http://archive.ubuntu.com/ubuntu bionic/main amd64 libgtk2.0-common all 2.24.32-1ubuntu1 [125 kB]\n",
            "Get:2 http://archive.ubuntu.com/ubuntu bionic/main amd64 libgtk2.0-0 amd64 2.24.32-1ubuntu1 [1,769 kB]\n",
            "Get:3 http://archive.ubuntu.com/ubuntu bionic/main amd64 libgail18 amd64 2.24.32-1ubuntu1 [14.2 kB]\n",
            "Get:4 http://archive.ubuntu.com/ubuntu bionic/main amd64 libgail-common amd64 2.24.32-1ubuntu1 [112 kB]\n",
            "Get:5 http://archive.ubuntu.com/ubuntu bionic/universe amd64 libxdot4 amd64 2.40.1-2 [15.7 kB]\n",
            "Get:6 http://archive.ubuntu.com/ubuntu bionic/universe amd64 libgvc6-plugins-gtk amd64 2.40.1-2 [18.2 kB]\n",
            "Get:7 http://archive.ubuntu.com/ubuntu bionic/universe amd64 libgraphviz-dev amd64 2.40.1-2 [57.3 kB]\n",
            "Get:8 http://archive.ubuntu.com/ubuntu bionic/main amd64 libgtk2.0-bin amd64 2.24.32-1ubuntu1 [7,536 B]\n",
            "Fetched 2,120 kB in 2s (1,095 kB/s)\n",
            "Selecting previously unselected package libgtk2.0-common.\n",
            "(Reading database ... 124015 files and directories currently installed.)\n",
            "Preparing to unpack .../0-libgtk2.0-common_2.24.32-1ubuntu1_all.deb ...\n",
            "Unpacking libgtk2.0-common (2.24.32-1ubuntu1) ...\n",
            "Selecting previously unselected package libgtk2.0-0:amd64.\n",
            "Preparing to unpack .../1-libgtk2.0-0_2.24.32-1ubuntu1_amd64.deb ...\n",
            "Unpacking libgtk2.0-0:amd64 (2.24.32-1ubuntu1) ...\n",
            "Selecting previously unselected package libgail18:amd64.\n",
            "Preparing to unpack .../2-libgail18_2.24.32-1ubuntu1_amd64.deb ...\n",
            "Unpacking libgail18:amd64 (2.24.32-1ubuntu1) ...\n",
            "Selecting previously unselected package libgail-common:amd64.\n",
            "Preparing to unpack .../3-libgail-common_2.24.32-1ubuntu1_amd64.deb ...\n",
            "Unpacking libgail-common:amd64 (2.24.32-1ubuntu1) ...\n",
            "Selecting previously unselected package libxdot4.\n",
            "Preparing to unpack .../4-libxdot4_2.40.1-2_amd64.deb ...\n",
            "Unpacking libxdot4 (2.40.1-2) ...\n",
            "Selecting previously unselected package libgvc6-plugins-gtk.\n",
            "Preparing to unpack .../5-libgvc6-plugins-gtk_2.40.1-2_amd64.deb ...\n",
            "Unpacking libgvc6-plugins-gtk (2.40.1-2) ...\n",
            "Selecting previously unselected package libgraphviz-dev.\n",
            "Preparing to unpack .../6-libgraphviz-dev_2.40.1-2_amd64.deb ...\n",
            "Unpacking libgraphviz-dev (2.40.1-2) ...\n",
            "Selecting previously unselected package libgtk2.0-bin.\n",
            "Preparing to unpack .../7-libgtk2.0-bin_2.24.32-1ubuntu1_amd64.deb ...\n",
            "Unpacking libgtk2.0-bin (2.24.32-1ubuntu1) ...\n",
            "Setting up libgtk2.0-common (2.24.32-1ubuntu1) ...\n",
            "Setting up libxdot4 (2.40.1-2) ...\n",
            "Setting up libgtk2.0-0:amd64 (2.24.32-1ubuntu1) ...\n",
            "Setting up libgail18:amd64 (2.24.32-1ubuntu1) ...\n",
            "Setting up libgail-common:amd64 (2.24.32-1ubuntu1) ...\n",
            "Setting up libgvc6-plugins-gtk (2.40.1-2) ...\n",
            "Setting up libgraphviz-dev (2.40.1-2) ...\n",
            "Setting up libgtk2.0-bin (2.24.32-1ubuntu1) ...\n",
            "Processing triggers for man-db (2.8.3-2ubuntu0.1) ...\n",
            "Processing triggers for libc-bin (2.27-3ubuntu1.6) ...\n",
            "Looking in indexes: https://pypi.org/simple, https://us-python.pkg.dev/colab-wheels/public/simple/\n",
            "Collecting pygraphviz\n",
            "  Downloading pygraphviz-1.10.zip (120 kB)\n",
            "\u001b[K     |████████████████████████████████| 120 kB 4.3 MB/s \n",
            "\u001b[?25hBuilding wheels for collected packages: pygraphviz\n",
            "  Building wheel for pygraphviz (setup.py) ... \u001b[?25l\u001b[?25hdone\n",
            "  Created wheel for pygraphviz: filename=pygraphviz-1.10-cp38-cp38-linux_x86_64.whl size=167629 sha256=3a9097a082c9d64517894755d0a003f4eda10c4e530e8d13486a1cf7d34baafd\n",
            "  Stored in directory: /root/.cache/pip/wheels/ac/bd/46/118c2a336c6fd8d47026854302f8fad63bb7e431e52008ea06\n",
            "Successfully built pygraphviz\n",
            "Installing collected packages: pygraphviz\n",
            "Successfully installed pygraphviz-1.10\n",
            "Looking in indexes: https://pypi.org/simple, https://us-python.pkg.dev/colab-wheels/public/simple/\n",
            "Collecting dowhy\n",
            "  Downloading dowhy-0.8-py3-none-any.whl (287 kB)\n",
            "\u001b[K     |████████████████████████████████| 287 kB 4.3 MB/s \n",
            "\u001b[?25hRequirement already satisfied: graphviz in /usr/local/lib/python3.8/dist-packages (0.10.1)\n",
            "Requirement already satisfied: pygraphviz in /usr/local/lib/python3.8/dist-packages (1.10)\n",
            "Requirement already satisfied: networkx>=2.0 in /usr/local/lib/python3.8/dist-packages (from dowhy) (2.6.3)\n",
            "Collecting pydot>=1.4\n",
            "  Downloading pydot-1.4.2-py2.py3-none-any.whl (21 kB)\n",
            "Requirement already satisfied: pandas>=0.24 in /usr/local/lib/python3.8/dist-packages (from dowhy) (1.3.5)\n",
            "Requirement already satisfied: numpy>=1.15 in /usr/local/lib/python3.8/dist-packages (from dowhy) (1.21.6)\n",
            "Requirement already satisfied: sympy>=1.4 in /usr/local/lib/python3.8/dist-packages (from dowhy) (1.7.1)\n",
            "Requirement already satisfied: scipy in /usr/local/lib/python3.8/dist-packages (from dowhy) (1.7.3)\n",
            "Requirement already satisfied: scikit-learn in /usr/local/lib/python3.8/dist-packages (from dowhy) (1.0.2)\n",
            "Requirement already satisfied: statsmodels in /usr/local/lib/python3.8/dist-packages (from dowhy) (0.12.2)\n",
            "Requirement already satisfied: python-dateutil>=2.7.3 in /usr/local/lib/python3.8/dist-packages (from pandas>=0.24->dowhy) (2.8.2)\n",
            "Requirement already satisfied: pytz>=2017.3 in /usr/local/lib/python3.8/dist-packages (from pandas>=0.24->dowhy) (2022.6)\n",
            "Requirement already satisfied: pyparsing>=2.1.4 in /usr/local/lib/python3.8/dist-packages (from pydot>=1.4->dowhy) (3.0.9)\n",
            "Requirement already satisfied: six>=1.5 in /usr/local/lib/python3.8/dist-packages (from python-dateutil>=2.7.3->pandas>=0.24->dowhy) (1.15.0)\n",
            "Requirement already satisfied: mpmath>=0.19 in /usr/local/lib/python3.8/dist-packages (from sympy>=1.4->dowhy) (1.2.1)\n",
            "Requirement already satisfied: joblib>=0.11 in /usr/local/lib/python3.8/dist-packages (from scikit-learn->dowhy) (1.2.0)\n",
            "Requirement already satisfied: threadpoolctl>=2.0.0 in /usr/local/lib/python3.8/dist-packages (from scikit-learn->dowhy) (3.1.0)\n",
            "Requirement already satisfied: patsy>=0.5 in /usr/local/lib/python3.8/dist-packages (from statsmodels->dowhy) (0.5.3)\n",
            "Installing collected packages: pydot, dowhy\n",
            "  Attempting uninstall: pydot\n",
            "    Found existing installation: pydot 1.3.0\n",
            "    Uninstalling pydot-1.3.0:\n",
            "      Successfully uninstalled pydot-1.3.0\n",
            "Successfully installed dowhy-0.8 pydot-1.4.2\n"
          ]
        }
      ]
    },
    {
      "cell_type": "code",
      "execution_count": null,
      "metadata": {
        "id": "C6FbEn_3wlgE"
      },
      "outputs": [],
      "source": [
        "import graphviz as gr\n",
        "import matplotlib.pyplot as plt\n",
        "import numpy as np\n",
        "import pandas as pd\n",
        "import seaborn as sns\n",
        "import statsmodels.formula.api as smf\n",
        "\n",
        "from dowhy import CausalModel\n",
        "from numpy.random import uniform, normal, poisson, binomial, exponential, gamma, lognormal\n",
        "from sklearn.neighbors import KNeighborsRegressor"
      ]
    },
    {
      "cell_type": "code",
      "execution_count": null,
      "metadata": {
        "id": "6VUEidW_wlgH"
      },
      "outputs": [],
      "source": [
        "# Hide a warning generated by the dowhy package\n",
        "import warnings\n",
        "from sklearn.exceptions import DataConversionWarning\n",
        "warnings.filterwarnings(\"ignore\", category=DataConversionWarning)"
      ]
    },
    {
      "cell_type": "code",
      "execution_count": null,
      "metadata": {
        "id": "hhKXIFtLwlgH"
      },
      "outputs": [],
      "source": [
        "def simulate(**kwargs):\n",
        "  values = {}\n",
        "  g = gr.Digraph()\n",
        "  for k,v in kwargs.items():\n",
        "    parents = v.__code__.co_varnames\n",
        "    inputs = {arg: values[arg] for arg in parents}\n",
        "    values[k] = v(**inputs)\n",
        "    for p in parents:\n",
        "        g.edge(p,k)\n",
        "  data = pd.DataFrame(values)\n",
        "  return data, g"
      ]
    },
    {
      "cell_type": "code",
      "execution_count": null,
      "metadata": {
        "id": "Holwy7yEwlgI"
      },
      "outputs": [],
      "source": [
        "np.random.seed(0)"
      ]
    },
    {
      "cell_type": "code",
      "execution_count": null,
      "metadata": {
        "id": "JVpsBUBFwlgI"
      },
      "outputs": [],
      "source": [
        "def dgp(N):\n",
        "    return simulate(\n",
        "        age = lambda: uniform(18, 80, N),\n",
        "        income = lambda: normal(50000, 10000, N),\n",
        "        member = lambda age, income: binomial(1, 1/(1+np.exp(-(age-40)/10)) * 1/(1+np.exp(-(income-50000)/10000)), N),\n",
        "        spend = lambda member, age, income: poisson(1000 + 1000*member + 10*age - .1*age**2 + 0.01*income + 10*np.sqrt(income), N),\n",
        "    )"
      ]
    },
    {
      "cell_type": "code",
      "execution_count": null,
      "metadata": {
        "id": "woWg3Mf0wlgJ",
        "colab": {
          "base_uri": "https://localhost:8080/",
          "height": 272
        },
        "outputId": "4bf8b04e-7716-4558-8fb0-3c1519d8617f"
      },
      "outputs": [
        {
          "output_type": "execute_result",
          "data": {
            "text/plain": [
              "<graphviz.dot.Digraph at 0x7fa4aff56a90>"
            ],
            "image/svg+xml": "<?xml version=\"1.0\" encoding=\"UTF-8\" standalone=\"no\"?>\n<!DOCTYPE svg PUBLIC \"-//W3C//DTD SVG 1.1//EN\"\n \"http://www.w3.org/Graphics/SVG/1.1/DTD/svg11.dtd\">\n<!-- Generated by graphviz version 2.40.1 (20161225.0304)\n -->\n<!-- Title: %3 Pages: 1 -->\n<svg width=\"170pt\" height=\"188pt\"\n viewBox=\"0.00 0.00 170.35 188.00\" xmlns=\"http://www.w3.org/2000/svg\" xmlns:xlink=\"http://www.w3.org/1999/xlink\">\n<g id=\"graph0\" class=\"graph\" transform=\"scale(1 1) rotate(0) translate(4 184)\">\n<title>%3</title>\n<polygon fill=\"#ffffff\" stroke=\"transparent\" points=\"-4,4 -4,-184 166.3466,-184 166.3466,4 -4,4\"/>\n<!-- age -->\n<g id=\"node1\" class=\"node\">\n<title>age</title>\n<ellipse fill=\"none\" stroke=\"#000000\" cx=\"27\" cy=\"-162\" rx=\"27\" ry=\"18\"/>\n<text text-anchor=\"middle\" x=\"27\" y=\"-158.3\" font-family=\"Times,serif\" font-size=\"14.00\" fill=\"#000000\">age</text>\n</g>\n<!-- member -->\n<g id=\"node2\" class=\"node\">\n<title>member</title>\n<ellipse fill=\"none\" stroke=\"#000000\" cx=\"69\" cy=\"-90\" rx=\"40.8928\" ry=\"18\"/>\n<text text-anchor=\"middle\" x=\"69\" y=\"-86.3\" font-family=\"Times,serif\" font-size=\"14.00\" fill=\"#000000\">member</text>\n</g>\n<!-- age&#45;&gt;member -->\n<g id=\"edge1\" class=\"edge\">\n<title>age&#45;&gt;member</title>\n<path fill=\"none\" stroke=\"#000000\" d=\"M36.9534,-144.937C41.9535,-136.3654 48.1217,-125.7914 53.707,-116.2165\"/>\n<polygon fill=\"#000000\" stroke=\"#000000\" points=\"56.8107,-117.842 58.8263,-107.4407 50.7643,-114.3149 56.8107,-117.842\"/>\n</g>\n<!-- spend -->\n<g id=\"node4\" class=\"node\">\n<title>spend</title>\n<ellipse fill=\"none\" stroke=\"#000000\" cx=\"69\" cy=\"-18\" rx=\"32.4942\" ry=\"18\"/>\n<text text-anchor=\"middle\" x=\"69\" y=\"-14.3\" font-family=\"Times,serif\" font-size=\"14.00\" fill=\"#000000\">spend</text>\n</g>\n<!-- age&#45;&gt;spend -->\n<g id=\"edge4\" class=\"edge\">\n<title>age&#45;&gt;spend</title>\n<path fill=\"none\" stroke=\"#000000\" d=\"M20.9062,-144.4225C15.4651,-125.7839 9.6709,-95.8065 19,-72 23.8073,-59.7324 32.8552,-48.5856 41.9471,-39.6473\"/>\n<polygon fill=\"#000000\" stroke=\"#000000\" points=\"44.5222,-42.0337 49.5026,-32.6824 39.7777,-36.8869 44.5222,-42.0337\"/>\n</g>\n<!-- member&#45;&gt;spend -->\n<g id=\"edge3\" class=\"edge\">\n<title>member&#45;&gt;spend</title>\n<path fill=\"none\" stroke=\"#000000\" d=\"M69,-71.8314C69,-64.131 69,-54.9743 69,-46.4166\"/>\n<polygon fill=\"#000000\" stroke=\"#000000\" points=\"72.5001,-46.4132 69,-36.4133 65.5001,-46.4133 72.5001,-46.4132\"/>\n</g>\n<!-- income -->\n<g id=\"node3\" class=\"node\">\n<title>income</title>\n<ellipse fill=\"none\" stroke=\"#000000\" cx=\"124\" cy=\"-162\" rx=\"38.1938\" ry=\"18\"/>\n<text text-anchor=\"middle\" x=\"124\" y=\"-158.3\" font-family=\"Times,serif\" font-size=\"14.00\" fill=\"#000000\">income</text>\n</g>\n<!-- income&#45;&gt;member -->\n<g id=\"edge2\" class=\"edge\">\n<title>income&#45;&gt;member</title>\n<path fill=\"none\" stroke=\"#000000\" d=\"M110.9658,-144.937C104.283,-136.1886 96.0069,-125.3545 88.5751,-115.6256\"/>\n<polygon fill=\"#000000\" stroke=\"#000000\" points=\"91.1745,-113.2627 82.3227,-107.4407 85.6118,-117.5121 91.1745,-113.2627\"/>\n</g>\n<!-- income&#45;&gt;spend -->\n<g id=\"edge5\" class=\"edge\">\n<title>income&#45;&gt;spend</title>\n<path fill=\"none\" stroke=\"#000000\" d=\"M126.4774,-143.9478C128.2733,-125.1796 128.901,-95.3382 119,-72 113.8542,-59.8705 104.7405,-48.7505 95.6907,-39.795\"/>\n<polygon fill=\"#000000\" stroke=\"#000000\" points=\"97.8942,-37.0643 88.1924,-32.8069 93.1217,-42.1852 97.8942,-37.0643\"/>\n</g>\n</g>\n</svg>\n"
          },
          "metadata": {},
          "execution_count": 7
        }
      ],
      "source": [
        "df, g = dgp(100)\n",
        "g"
      ]
    },
    {
      "cell_type": "markdown",
      "metadata": {
        "id": "PzddzQpmwlgJ"
      },
      "source": [
        "# Exploratory Data Analysis"
      ]
    },
    {
      "cell_type": "code",
      "execution_count": null,
      "metadata": {
        "id": "bo3TalJzwlgK",
        "colab": {
          "base_uri": "https://localhost:8080/",
          "height": 258
        },
        "outputId": "f35a032f-f2a4-4032-c19e-761d3bedef21"
      },
      "outputs": [
        {
          "output_type": "display_data",
          "data": {
            "text/plain": [
              "<Figure size 432x288 with 2 Axes>"
            ],
            "image/png": "[encoded data removed]"
          },
          "metadata": {
            "needs_background": "light"
          }
        }
      ],
      "source": [
        "df.plot.scatter(x='age', y='income', c='member', colormap='viridis');"
      ]
    },
    {
      "cell_type": "code",
      "execution_count": null,
      "metadata": {
        "id": "2CDBi62rwlgL",
        "colab": {
          "base_uri": "https://localhost:8080/",
          "height": 258
        },
        "outputId": "227f4aee-e7b0-41af-db05-5ecab0fc43da"
      },
      "outputs": [
        {
          "output_type": "display_data",
          "data": {
            "text/plain": [
              "<Figure size 432x288 with 2 Axes>"
            ],
            "image/png": "[encoded data removed]"
          },
          "metadata": {
            "needs_background": "light"
          }
        }
      ],
      "source": [
        "df.plot.scatter(x='age', y='spend', c='member', colormap='viridis');"
      ]
    },
    {
      "cell_type": "code",
      "execution_count": null,
      "metadata": {
        "id": "7MzdfYGnwlgL",
        "colab": {
          "base_uri": "https://localhost:8080/",
          "height": 258
        },
        "outputId": "a94823d0-be99-4a57-e976-34ab948aba17"
      },
      "outputs": [
        {
          "output_type": "display_data",
          "data": {
            "text/plain": [
              "<Figure size 432x288 with 2 Axes>"
            ],
            "image/png": "[encoded data removed]"
          },
          "metadata": {
            "needs_background": "light"
          }
        }
      ],
      "source": [
        "df.plot.scatter(x='income', y='spend', c='member', colormap='viridis');"
      ]
    },
    {
      "cell_type": "code",
      "execution_count": null,
      "metadata": {
        "id": "Nnvi5A3cwlgL",
        "colab": {
          "base_uri": "https://localhost:8080/"
        },
        "outputId": "6bc9817a-cdf0-4fa5-dcf4-10e7e66b0775"
      },
      "outputs": [
        {
          "output_type": "stream",
          "name": "stdout",
          "text": [
            "==============================================================================\n",
            "                 coef    std err          t      P>|t|      [0.025      0.975]\n",
            "------------------------------------------------------------------------------\n",
            "Intercept   3876.4496      3.843   1008.683      0.000    3868.916    3883.983\n",
            "member      1210.5046      6.882    175.883      0.000    1197.014    1223.995\n",
            "==============================================================================\n"
          ]
        }
      ],
      "source": [
        "# The estimated effect without controls is biased upward even if we have lots of data\n",
        "df_big, _ = dgp(10000)\n",
        "result = smf.ols('spend ~ member', data=df_big).fit()\n",
        "print(result.summary().tables[1])"
      ]
    },
    {
      "cell_type": "markdown",
      "metadata": {
        "id": "236TbIR1wlgM"
      },
      "source": [
        "# Using Matching in R"
      ]
    },
    {
      "cell_type": "code",
      "execution_count": null,
      "metadata": {
        "id": "rMuZUXZTwlgM"
      },
      "outputs": [],
      "source": [
        "# Install the package for calling R from python\n",
        "%pip install rpy2\n",
        "## activate R magic\n",
        "%load_ext rpy2.ipython\n",
        "## Install packages in R if needed\n",
        "%R install.packages('MatchIt')\n",
        "\n",
        "# Python to R conversion\n",
        "import rpy2.robjects as ro\n",
        "from rpy2.robjects.packages import importr\n",
        "from rpy2.robjects import pandas2ri\n",
        "from rpy2.robjects.conversion import localconverter\n",
        "\n",
        "# Read R libraries\n",
        "%R library(MatchIt)\n",
        "%R library(tidyverse)\n",
        "%R options(\"width\"=200, scipen=999)"
      ]
    },
    {
      "cell_type": "code",
      "execution_count": null,
      "metadata": {
        "id": "dbbBlN_0wlgM"
      },
      "outputs": [],
      "source": [
        "df.to_csv(\"df.csv\")\n",
        "df_big.to_csv(\"df_big.csv\")"
      ]
    },
    {
      "cell_type": "code",
      "execution_count": null,
      "metadata": {
        "id": "deZT0tvSwlgN"
      },
      "outputs": [],
      "source": [
        "%%R\n",
        "df_big <- read.csv(\"df_big.csv\")\n",
        "\n",
        "# Some of the functions prefer the treatment variable to be 0/1 rather than True/False\n",
        "df_big['member'] = df_big['member'] * 1"
      ]
    },
    {
      "cell_type": "markdown",
      "metadata": {
        "id": "579LPUCswlgN"
      },
      "source": [
        "## Exact Matching"
      ]
    },
    {
      "cell_type": "code",
      "execution_count": null,
      "metadata": {
        "id": "NNDmNOfMwlgN",
        "colab": {
          "base_uri": "https://localhost:8080/"
        },
        "outputId": "ffb54aea-5fe6-4d24-d77b-5f410a1c2ebc"
      },
      "outputs": [
        {
          "output_type": "stream",
          "name": "stdout",
          "text": [
            "NULL\n"
          ]
        }
      ],
      "source": [
        "%%R\n",
        "## Unfortunately, even with 10000 there are 0 exact matches\n",
        "#m.exact = matchit(member ~ age + income, data = df_big, method=\"exact\", estimand=\"ATE\")\n",
        "#summary(m.exact)"
      ]
    },
    {
      "cell_type": "markdown",
      "metadata": {
        "id": "3dw2LX1_wlgN"
      },
      "source": [
        "## Coarsened Exact Matching"
      ]
    },
    {
      "cell_type": "code",
      "execution_count": null,
      "metadata": {
        "id": "H_BTh8UWwlgN",
        "colab": {
          "base_uri": "https://localhost:8080/",
          "height": 896
        },
        "outputId": "d0edf44d-fba0-448e-b98e-ed85084b3eeb"
      },
      "outputs": [
        {
          "output_type": "stream",
          "name": "stdout",
          "text": [
            "\n",
            "Call:\n",
            "matchit(formula = member ~ age + income, data = df_big, method = \"cem\", \n",
            "    estimand = \"ATE\", cutpoints = list(age = 10, income = 10))\n",
            "\n",
            "Summary of Balance for All Data:\n",
            "       Means Treated Means Control Std. Mean Diff. Var. Ratio eCDF Mean eCDF Max\n",
            "age          57.1246       44.9417          0.7352     0.7386    0.1962   0.3194\n",
            "income    54324.1891    48055.2427          0.6662     0.9007    0.1816   0.2698\n",
            "\n",
            "Summary of Balance for Matched Data:\n",
            "       Means Treated Means Control Std. Mean Diff. Var. Ratio eCDF Mean eCDF Max Std. Pair Dist.\n",
            "age          48.8826       48.7942          0.0053     0.9970    0.0024   0.0097          0.1255\n",
            "income    50379.8072    50009.2175          0.0394     0.9879    0.0106   0.0237          0.2554\n",
            "\n",
            "Sample Sizes:\n",
            "              Control Treated\n",
            "All           6882.    3118. \n",
            "Matched (ESS) 5820.52  1594.6\n",
            "Matched       6811.    3102. \n",
            "Unmatched       71.      16. \n",
            "Discarded        0.       0. \n",
            "\n"
          ]
        },
        {
          "output_type": "display_data",
          "data": {
            "image/png": "[encoded data removed]"
          },
          "metadata": {}
        }
      ],
      "source": [
        "%%R\n",
        "# Match each unit to the nearest neighbor in the other group\n",
        "m_cem = matchit(\n",
        "    member ~ age + income, \n",
        "    data = df_big, \n",
        "    method=\"cem\", \n",
        "    estimand=\"ATE\", \n",
        "    cutpoints = list(age = 10, income = 10)\n",
        ")\n",
        "# Prints the summary of the matching\n",
        "print(summary(m_cem))\n",
        "# Plot the distributions of the covariates before and after matching\n",
        "plot(m_cem, type = \"density\")"
      ]
    },
    {
      "cell_type": "code",
      "execution_count": null,
      "metadata": {
        "id": "b4e7cZ5twlgO",
        "colab": {
          "base_uri": "https://localhost:8080/"
        },
        "outputId": "3fdeebe4-33a4-474e-e24a-28d1da2538b3"
      },
      "outputs": [
        {
          "output_type": "stream",
          "name": "stdout",
          "text": [
            "\n",
            "Call:\n",
            "lm(formula = spend ~ member, data = df_matched_cem, weights = weights)\n",
            "\n",
            "Weighted Residuals:\n",
            "     Min       1Q   Median       3Q      Max \n",
            "-2380.16  -205.26     6.84   203.54  2198.45 \n",
            "\n",
            "Coefficients:\n",
            "            Estimate Std. Error t value            Pr(>|t|)    \n",
            "(Intercept) 3942.318      3.883  1015.2 <0.0000000000000002 ***\n",
            "member      1012.822      6.942   145.9 <0.0000000000000002 ***\n",
            "---\n",
            "Signif. codes:  0 ‘***’ 0.001 ‘**’ 0.01 ‘*’ 0.05 ‘.’ 0.1 ‘ ’ 1\n",
            "\n",
            "Residual standard error: 320.5 on 9911 degrees of freedom\n",
            "Multiple R-squared:  0.6823,\tAdjusted R-squared:  0.6823 \n",
            "F-statistic: 2.128e+04 on 1 and 9911 DF,  p-value: < 0.00000000000000022\n",
            "\n"
          ]
        }
      ],
      "source": [
        "%%R\n",
        "df_matched_cem = match.data(m_cem)\n",
        "lm(spend ~ member, data = df_matched_cem, weights = weights) %>% summary()"
      ]
    },
    {
      "cell_type": "markdown",
      "metadata": {
        "id": "wLKmcfY-wlgO"
      },
      "source": [
        "## Matching based on Distance"
      ]
    },
    {
      "cell_type": "code",
      "execution_count": null,
      "metadata": {
        "id": "4U0W4PrfwlgO",
        "colab": {
          "base_uri": "https://localhost:8080/",
          "height": 879
        },
        "outputId": "9fef2da5-f987-46c8-907a-bac53b03630b"
      },
      "outputs": [
        {
          "output_type": "stream",
          "name": "stdout",
          "text": [
            "\n",
            "Call:\n",
            "matchit(formula = member ~ age + income, data = df_big, method = \"nearest\", \n",
            "    distance = \"scaled_euclidean\", estimand = \"ATT\")\n",
            "\n",
            "Summary of Balance for All Data:\n",
            "       Means Treated Means Control Std. Mean Diff. Var. Ratio eCDF Mean eCDF Max\n",
            "age          57.1246       44.9417          0.7976     0.7386    0.1962   0.3194\n",
            "income    54324.1891    48055.2427          0.6843     0.9007    0.1816   0.2698\n",
            "\n",
            "Summary of Balance for Matched Data:\n",
            "       Means Treated Means Control Std. Mean Diff. Var. Ratio eCDF Mean eCDF Max Std. Pair Dist.\n",
            "age          57.1246       54.6196          0.1640     0.9836    0.0402   0.0843          0.1806\n",
            "income    54324.1891    52355.7594          0.2149     1.2174    0.0560   0.1203          0.2296\n",
            "\n",
            "Sample Sizes:\n",
            "          Control Treated\n",
            "All          6882    3118\n",
            "Matched      3118    3118\n",
            "Unmatched    3764       0\n",
            "Discarded       0       0\n",
            "\n"
          ]
        },
        {
          "output_type": "display_data",
          "data": {
            "image/png": "[encoded data removed]"
          },
          "metadata": {}
        }
      ],
      "source": [
        "%%R\n",
        "# Match each unit to the nearest neighbor in the other group\n",
        "m_se = matchit(member ~ age + income, data = df_big, method=\"nearest\", distance=\"scaled_euclidean\", estimand=\"ATT\")\n",
        "# Prints the summary of the matching\n",
        "print(summary(m_se))\n",
        "# Plot the distributions of the covariates before and after matching\n",
        "plot(m_se, type = \"density\")"
      ]
    },
    {
      "cell_type": "code",
      "execution_count": null,
      "metadata": {
        "id": "AwmW-k3-wlgO",
        "colab": {
          "base_uri": "https://localhost:8080/"
        },
        "outputId": "4adf22fe-4ebb-4b96-9762-f8196ed732d9"
      },
      "outputs": [
        {
          "output_type": "stream",
          "name": "stdout",
          "text": [
            "\n",
            "Call:\n",
            "lm(formula = spend ~ member, data = df_matched_se, weights = weights)\n",
            "\n",
            "Residuals:\n",
            "     Min       1Q   Median       3Q      Max \n",
            "-1083.95  -193.95     0.05   194.60   986.05 \n",
            "\n",
            "Coefficients:\n",
            "            Estimate Std. Error t value            Pr(>|t|)    \n",
            "(Intercept) 4028.402      5.170   779.2 <0.0000000000000002 ***\n",
            "member      1058.552      7.312   144.8 <0.0000000000000002 ***\n",
            "---\n",
            "Signif. codes:  0 ‘***’ 0.001 ‘**’ 0.01 ‘*’ 0.05 ‘.’ 0.1 ‘ ’ 1\n",
            "\n",
            "Residual standard error: 288.7 on 6234 degrees of freedom\n",
            "Multiple R-squared:  0.7708,\tAdjusted R-squared:  0.7707 \n",
            "F-statistic: 2.096e+04 on 1 and 6234 DF,  p-value: < 0.00000000000000022\n",
            "\n"
          ]
        }
      ],
      "source": [
        "%%R \n",
        "df_matched_se = match.data(m_se)\n",
        "lm(spend ~ member, data = df_matched_se, weights = weights) %>% summary()"
      ]
    },
    {
      "cell_type": "markdown",
      "metadata": {
        "id": "q-tgsZa7wlgP"
      },
      "source": [
        "### Mahalanobis distance"
      ]
    },
    {
      "cell_type": "code",
      "execution_count": null,
      "metadata": {
        "id": "kXnufjLSwlgP",
        "colab": {
          "base_uri": "https://localhost:8080/"
        },
        "outputId": "baa1abd6-44d6-4926-83d8-cccd412c4003"
      },
      "outputs": [
        {
          "output_type": "stream",
          "name": "stdout",
          "text": [
            "\n",
            "Call:\n",
            "matchit(formula = member ~ age + income, data = df_big, method = \"nearest\", \n",
            "    distance = \"mahalanobis\", estimand = \"ATT\")\n",
            "\n",
            "Summary of Balance for All Data:\n",
            "       Means Treated Means Control Std. Mean Diff. Var. Ratio eCDF Mean eCDF Max\n",
            "age          57.1246       44.9417          0.7976     0.7386    0.1962   0.3194\n",
            "income    54324.1891    48055.2427          0.6843     0.9007    0.1816   0.2698\n",
            "\n",
            "Summary of Balance for Matched Data:\n",
            "       Means Treated Means Control Std. Mean Diff. Var. Ratio eCDF Mean eCDF Max Std. Pair Dist.\n",
            "age          57.1246       54.6939          0.1591     0.9750    0.0390   0.0821          0.1767\n",
            "income    54324.1891    52354.3015          0.2150     1.2012    0.0565   0.1196          0.2301\n",
            "\n",
            "Sample Sizes:\n",
            "          Control Treated\n",
            "All          6882    3118\n",
            "Matched      3118    3118\n",
            "Unmatched    3764       0\n",
            "Discarded       0       0\n",
            "\n"
          ]
        },
        {
          "output_type": "display_data",
          "data": {
            "image/png": "[encoded data removed]"
          },
          "metadata": {}
        }
      ],
      "source": [
        "%%R\n",
        "m_mh = matchit(member ~ age + income, data = df_big, method=\"nearest\", distance=\"mahalanobis\", estimand=\"ATT\")\n",
        "print(summary(m_mh))\n",
        "plot(m_mh, type = \"density\")"
      ]
    },
    {
      "cell_type": "code",
      "execution_count": null,
      "metadata": {
        "id": "MZeNwql5wlgP",
        "colab": {
          "base_uri": "https://localhost:8080/"
        },
        "outputId": "95761a85-fd7e-44e2-bd23-bd4ce9770667"
      },
      "outputs": [
        {
          "output_type": "stream",
          "name": "stdout",
          "text": [
            "\n",
            "Call:\n",
            "lm(formula = spend ~ member, data = df_matched_mh, weights = weights)\n",
            "\n",
            "Residuals:\n",
            "     Min       1Q   Median       3Q      Max \n",
            "-1125.02  -194.97    -0.49   195.05   986.05 \n",
            "\n",
            "Coefficients:\n",
            "            Estimate Std. Error t value            Pr(>|t|)    \n",
            "(Intercept) 4028.018      5.185   776.9 <0.0000000000000002 ***\n",
            "member      1058.936      7.332   144.4 <0.0000000000000002 ***\n",
            "---\n",
            "Signif. codes:  0 ‘***’ 0.001 ‘**’ 0.01 ‘*’ 0.05 ‘.’ 0.1 ‘ ’ 1\n",
            "\n",
            "Residual standard error: 289.5 on 6234 degrees of freedom\n",
            "Multiple R-squared:  0.7699,\tAdjusted R-squared:  0.7698 \n",
            "F-statistic: 2.086e+04 on 1 and 6234 DF,  p-value: < 0.00000000000000022\n",
            "\n"
          ]
        }
      ],
      "source": [
        "%%R\n",
        "df_matched_mh = match.data(m_mh)\n",
        "lm(spend ~ member, data = df_matched_mh, weights = weights) %>% summary()"
      ]
    },
    {
      "cell_type": "markdown",
      "metadata": {
        "id": "06-x0ScIwlgP"
      },
      "source": [
        "## Propensity Score Matching"
      ]
    },
    {
      "cell_type": "code",
      "execution_count": null,
      "metadata": {
        "id": "CnMFsuldwlgP",
        "colab": {
          "base_uri": "https://localhost:8080/",
          "height": 914
        },
        "outputId": "1df80ada-0f40-471c-8a61-81c7d255a6d2"
      },
      "outputs": [
        {
          "output_type": "stream",
          "name": "stdout",
          "text": [
            "\n",
            "Call:\n",
            "matchit(formula = member ~ age + income, data = df_big, distance = \"glm\", \n",
            "    estimand = \"ATT\")\n",
            "\n",
            "Summary of Balance for All Data:\n",
            "         Means Treated Means Control Std. Mean Diff. Var. Ratio eCDF Mean eCDF Max\n",
            "distance        0.4446        0.2516          0.9474     1.3883    0.2660   0.3926\n",
            "age            57.1246       44.9417          0.7976     0.7386    0.1962   0.3194\n",
            "income      54324.1891    48055.2427          0.6843     0.9007    0.1816   0.2698\n",
            "\n",
            "Summary of Balance for Matched Data:\n",
            "         Means Treated Means Control Std. Mean Diff. Var. Ratio eCDF Mean eCDF Max Std. Pair Dist.\n",
            "distance        0.4446        0.3866          0.2848     1.5979    0.0516   0.1770          0.2849\n",
            "age            57.1246       54.6782          0.1602     0.8127    0.0395   0.0824          0.9052\n",
            "income      54324.1891    52523.1951          0.1966     1.0742    0.0526   0.0994          0.9341\n",
            "\n",
            "Sample Sizes:\n",
            "          Control Treated\n",
            "All          6882    3118\n",
            "Matched      3118    3118\n",
            "Unmatched    3764       0\n",
            "Discarded       0       0\n",
            "\n"
          ]
        },
        {
          "output_type": "display_data",
          "data": {
            "image/png": "[encoded data removed]"
          },
          "metadata": {}
        }
      ],
      "source": [
        "%%R\n",
        "\n",
        "# Match each unit to the nearest neighbor in the other group\n",
        "m_propensity = matchit(\n",
        "    member ~ age + income, \n",
        "    data = df_big, \n",
        "    distance=\"glm\",\n",
        "    estimand=\"ATT\"\n",
        ")\n",
        "# Prints the summary of the matching\n",
        "print(summary(m_propensity))\n",
        "# Plot the distributions of the covariates before and after matching\n",
        "plot(m_propensity, type = \"density\")"
      ]
    },
    {
      "cell_type": "code",
      "execution_count": null,
      "metadata": {
        "id": "BYshwt4FwlgQ",
        "colab": {
          "base_uri": "https://localhost:8080/"
        },
        "outputId": "ee3c7d52-e6d8-4c2e-de27-758f99c9b82a"
      },
      "outputs": [
        {
          "output_type": "stream",
          "name": "stdout",
          "text": [
            "\n",
            "Call:\n",
            "lm(formula = spend ~ member, data = df_matched_propensity, weights = weights)\n",
            "\n",
            "Weighted Residuals:\n",
            "     Min       1Q   Median       3Q      Max \n",
            "-2380.16  -205.26     6.84   203.54  2198.45 \n",
            "\n",
            "Coefficients:\n",
            "            Estimate Std. Error t value            Pr(>|t|)    \n",
            "(Intercept) 3942.318      3.883  1015.2 <0.0000000000000002 ***\n",
            "member      1012.822      6.942   145.9 <0.0000000000000002 ***\n",
            "---\n",
            "Signif. codes:  0 ‘***’ 0.001 ‘**’ 0.01 ‘*’ 0.05 ‘.’ 0.1 ‘ ’ 1\n",
            "\n",
            "Residual standard error: 320.5 on 9911 degrees of freedom\n",
            "Multiple R-squared:  0.6823,\tAdjusted R-squared:  0.6823 \n",
            "F-statistic: 2.128e+04 on 1 and 9911 DF,  p-value: < 0.00000000000000022\n",
            "\n"
          ]
        }
      ],
      "source": [
        "%%R\n",
        "df_matched_propensity = match.data(m_cem)\n",
        "lm(spend ~ member, data = df_matched_propensity, weights = weights) %>% summary()"
      ]
    },
    {
      "cell_type": "code",
      "execution_count": null,
      "metadata": {
        "id": "d0q7FuJtwlgQ",
        "colab": {
          "base_uri": "https://localhost:8080/"
        },
        "outputId": "e1a669e5-a8dd-484e-f9eb-5c806748f825"
      },
      "outputs": [
        {
          "output_type": "stream",
          "name": "stdout",
          "text": [
            "\n",
            "Call:\n",
            "lm(formula = spend ~ member + age + income, data = df_matched_propensity, \n",
            "    weights = weights)\n",
            "\n",
            "Weighted Residuals:\n",
            "    Min      1Q  Median      3Q     Max \n",
            "-461.68  -44.99    1.19   47.06  396.40 \n",
            "\n",
            "Coefficients:\n",
            "                 Estimate    Std. Error t value             Pr(>|t|)    \n",
            "(Intercept) 2306.18168915    4.41177450 522.733 < 0.0000000000000002 ***\n",
            "member      1000.74778897    1.57560670 635.151 < 0.0000000000000002 ***\n",
            "age            0.18317797    0.04074436   4.496           0.00000701 ***\n",
            "income         0.03253797    0.00007615 427.269 < 0.0000000000000002 ***\n",
            "---\n",
            "Signif. codes:  0 ‘***’ 0.001 ‘**’ 0.01 ‘*’ 0.05 ‘.’ 0.1 ‘ ’ 1\n",
            "\n",
            "Residual standard error: 72.73 on 9909 degrees of freedom\n",
            "Multiple R-squared:  0.9836,\tAdjusted R-squared:  0.9836 \n",
            "F-statistic: 1.986e+05 on 3 and 9909 DF,  p-value: < 0.00000000000000022\n",
            "\n"
          ]
        }
      ],
      "source": [
        "%%R\n",
        "## We can improve precision by doing a regression with additional controls\n",
        "lm(spend ~ member + age + income, data = df_matched_propensity, weights = weights) %>% summary()"
      ]
    },
    {
      "cell_type": "code",
      "execution_count": null,
      "metadata": {
        "id": "-UFZtvMFwlgQ",
        "colab": {
          "base_uri": "https://localhost:8080/"
        },
        "outputId": "8c4276e1-51e2-472c-cfb1-3e8437bd7f97"
      },
      "outputs": [
        {
          "output_type": "stream",
          "name": "stdout",
          "text": [
            "\n",
            "Call:\n",
            "lm(formula = spend ~ member + poly(age, 2, raw = TRUE) + income + \n",
            "    sqrt(income), data = df_matched_propensity, weights = weights)\n",
            "\n",
            "Weighted Residuals:\n",
            "    Min      1Q  Median      3Q     Max \n",
            "-326.40  -40.36    1.26   41.22  417.37 \n",
            "\n",
            "Coefficients:\n",
            "                             Estimate  Std. Error t value            Pr(>|t|)    \n",
            "(Intercept)                988.713261   49.820463  19.846 <0.0000000000000002 ***\n",
            "member                    1000.484730    1.404161 712.514 <0.0000000000000002 ***\n",
            "poly(age, 2, raw = TRUE)1   10.296140    0.224744  45.813 <0.0000000000000002 ***\n",
            "poly(age, 2, raw = TRUE)2   -0.103363    0.002269 -45.561 <0.0000000000000002 ***\n",
            "income                       0.009831    0.001017   9.668 <0.0000000000000002 ***\n",
            "sqrt(income)                10.059563    0.450002  22.354 <0.0000000000000002 ***\n",
            "---\n",
            "Signif. codes:  0 ‘***’ 0.001 ‘**’ 0.01 ‘*’ 0.05 ‘.’ 0.1 ‘ ’ 1\n",
            "\n",
            "Residual standard error: 64.81 on 9907 degrees of freedom\n",
            "Multiple R-squared:  0.987,\tAdjusted R-squared:  0.987 \n",
            "F-statistic: 1.506e+05 on 5 and 9907 DF,  p-value: < 0.00000000000000022\n",
            "\n"
          ]
        }
      ],
      "source": [
        "%%R\n",
        "## What if we do regression with the exact right specification?\n",
        "lm(spend ~ member + poly(age,2,raw=TRUE) + income + sqrt(income), data = df_matched_propensity, weights = weights) %>% summary()"
      ]
    },
    {
      "cell_type": "markdown",
      "metadata": {
        "id": "V7wy0gE4wlgQ"
      },
      "source": [
        "# Matching and IPW in Python"
      ]
    },
    {
      "cell_type": "markdown",
      "metadata": {
        "id": "JCjQoMC_wlgQ"
      },
      "source": [
        "## Manual distance based matching"
      ]
    },
    {
      "cell_type": "code",
      "execution_count": null,
      "metadata": {
        "id": "g1YEqbimwlgQ",
        "colab": {
          "base_uri": "https://localhost:8080/"
        },
        "outputId": "0e8b0b79-b17c-4213-9f4a-d3d7f58c796d"
      },
      "outputs": [
        {
          "output_type": "stream",
          "name": "stdout",
          "text": [
            "1006.858\n",
            "1006.858\n"
          ]
        }
      ],
      "source": [
        "df, _ = dgp(1000)\n",
        "X = [\"income\", \"age\"]\n",
        "T = \"member\"\n",
        "y = \"spend\"\n",
        "treated = df[df[T] == 1]\n",
        "untreated = df[df[T] == 0]\n",
        "\n",
        "knn0 = KNeighborsRegressor(n_neighbors=1).fit(untreated[X], untreated[y])\n",
        "knn1 = KNeighborsRegressor(n_neighbors=1).fit(treated[X], treated[y])\n",
        "\n",
        "predicted = pd.concat([\n",
        "    treated.assign(match=knn0.predict(treated[X])),\n",
        "    untreated.assign(match=knn1.predict(untreated[X]))\n",
        "])\n",
        "\n",
        "# Make sure we are always subtracting the untreated from the treated\n",
        "predicted[\"te\"] = np.where(\n",
        "    predicted[T] == 1, \n",
        "    predicted[y] - predicted[\"match\"], \n",
        "    predicted[\"match\"] - predicted[y]\n",
        ")\n",
        "print(np.mean(predicted[\"te\"]))\n",
        "\n",
        "# Alternative formula to do caluclation in one step\n",
        "print(np.mean((2*predicted[T] - 1)*(predicted[y] - predicted[\"match\"])))"
      ]
    },
    {
      "cell_type": "markdown",
      "metadata": {
        "id": "V25PkDVYwlgR"
      },
      "source": [
        "## Matching and IPW in DoWhy"
      ]
    },
    {
      "cell_type": "code",
      "execution_count": null,
      "metadata": {
        "id": "SWzpGYKywlgR"
      },
      "outputs": [],
      "source": [
        "# Some of the methods complains if the treatment is not explicitly marked as binary\n",
        "df_big=df_big.astype({'member':'bool'}, copy=False)\n",
        "\n",
        "model = CausalModel(\n",
        "    data = df_big,\n",
        "    treatment = 'member',\n",
        "    outcome = 'spend',\n",
        "    graph = g.__str__()\n",
        ")"
      ]
    },
    {
      "cell_type": "code",
      "execution_count": null,
      "metadata": {
        "id": "5mReJNuUwlgR",
        "colab": {
          "base_uri": "https://localhost:8080/",
          "height": 272
        },
        "outputId": "b57aa680-0e73-4d75-b58d-b0a2d2f402aa"
      },
      "outputs": [
        {
          "output_type": "execute_result",
          "data": {
            "text/plain": [
              "<graphviz.dot.Digraph at 0x7fa4aff56a90>"
            ],
            "image/svg+xml": "<?xml version=\"1.0\" encoding=\"UTF-8\" standalone=\"no\"?>\n<!DOCTYPE svg PUBLIC \"-//W3C//DTD SVG 1.1//EN\"\n \"http://www.w3.org/Graphics/SVG/1.1/DTD/svg11.dtd\">\n<!-- Generated by graphviz version 2.40.1 (20161225.0304)\n -->\n<!-- Title: %3 Pages: 1 -->\n<svg width=\"170pt\" height=\"188pt\"\n viewBox=\"0.00 0.00 170.35 188.00\" xmlns=\"http://www.w3.org/2000/svg\" xmlns:xlink=\"http://www.w3.org/1999/xlink\">\n<g id=\"graph0\" class=\"graph\" transform=\"scale(1 1) rotate(0) translate(4 184)\">\n<title>%3</title>\n<polygon fill=\"#ffffff\" stroke=\"transparent\" points=\"-4,4 -4,-184 166.3466,-184 166.3466,4 -4,4\"/>\n<!-- age -->\n<g id=\"node1\" class=\"node\">\n<title>age</title>\n<ellipse fill=\"none\" stroke=\"#000000\" cx=\"27\" cy=\"-162\" rx=\"27\" ry=\"18\"/>\n<text text-anchor=\"middle\" x=\"27\" y=\"-158.3\" font-family=\"Times,serif\" font-size=\"14.00\" fill=\"#000000\">age</text>\n</g>\n<!-- member -->\n<g id=\"node2\" class=\"node\">\n<title>member</title>\n<ellipse fill=\"none\" stroke=\"#000000\" cx=\"69\" cy=\"-90\" rx=\"40.8928\" ry=\"18\"/>\n<text text-anchor=\"middle\" x=\"69\" y=\"-86.3\" font-family=\"Times,serif\" font-size=\"14.00\" fill=\"#000000\">member</text>\n</g>\n<!-- age&#45;&gt;member -->\n<g id=\"edge1\" class=\"edge\">\n<title>age&#45;&gt;member</title>\n<path fill=\"none\" stroke=\"#000000\" d=\"M36.9534,-144.937C41.9535,-136.3654 48.1217,-125.7914 53.707,-116.2165\"/>\n<polygon fill=\"#000000\" stroke=\"#000000\" points=\"56.8107,-117.842 58.8263,-107.4407 50.7643,-114.3149 56.8107,-117.842\"/>\n</g>\n<!-- spend -->\n<g id=\"node4\" class=\"node\">\n<title>spend</title>\n<ellipse fill=\"none\" stroke=\"#000000\" cx=\"69\" cy=\"-18\" rx=\"32.4942\" ry=\"18\"/>\n<text text-anchor=\"middle\" x=\"69\" y=\"-14.3\" font-family=\"Times,serif\" font-size=\"14.00\" fill=\"#000000\">spend</text>\n</g>\n<!-- age&#45;&gt;spend -->\n<g id=\"edge4\" class=\"edge\">\n<title>age&#45;&gt;spend</title>\n<path fill=\"none\" stroke=\"#000000\" d=\"M20.9062,-144.4225C15.4651,-125.7839 9.6709,-95.8065 19,-72 23.8073,-59.7324 32.8552,-48.5856 41.9471,-39.6473\"/>\n<polygon fill=\"#000000\" stroke=\"#000000\" points=\"44.5222,-42.0337 49.5026,-32.6824 39.7777,-36.8869 44.5222,-42.0337\"/>\n</g>\n<!-- member&#45;&gt;spend -->\n<g id=\"edge3\" class=\"edge\">\n<title>member&#45;&gt;spend</title>\n<path fill=\"none\" stroke=\"#000000\" d=\"M69,-71.8314C69,-64.131 69,-54.9743 69,-46.4166\"/>\n<polygon fill=\"#000000\" stroke=\"#000000\" points=\"72.5001,-46.4132 69,-36.4133 65.5001,-46.4133 72.5001,-46.4132\"/>\n</g>\n<!-- income -->\n<g id=\"node3\" class=\"node\">\n<title>income</title>\n<ellipse fill=\"none\" stroke=\"#000000\" cx=\"124\" cy=\"-162\" rx=\"38.1938\" ry=\"18\"/>\n<text text-anchor=\"middle\" x=\"124\" y=\"-158.3\" font-family=\"Times,serif\" font-size=\"14.00\" fill=\"#000000\">income</text>\n</g>\n<!-- income&#45;&gt;member -->\n<g id=\"edge2\" class=\"edge\">\n<title>income&#45;&gt;member</title>\n<path fill=\"none\" stroke=\"#000000\" d=\"M110.9658,-144.937C104.283,-136.1886 96.0069,-125.3545 88.5751,-115.6256\"/>\n<polygon fill=\"#000000\" stroke=\"#000000\" points=\"91.1745,-113.2627 82.3227,-107.4407 85.6118,-117.5121 91.1745,-113.2627\"/>\n</g>\n<!-- income&#45;&gt;spend -->\n<g id=\"edge5\" class=\"edge\">\n<title>income&#45;&gt;spend</title>\n<path fill=\"none\" stroke=\"#000000\" d=\"M126.4774,-143.9478C128.2733,-125.1796 128.901,-95.3382 119,-72 113.8542,-59.8705 104.7405,-48.7505 95.6907,-39.795\"/>\n<polygon fill=\"#000000\" stroke=\"#000000\" points=\"97.8942,-37.0643 88.1924,-32.8069 93.1217,-42.1852 97.8942,-37.0643\"/>\n</g>\n</g>\n</svg>\n"
          },
          "metadata": {},
          "execution_count": 28
        }
      ],
      "source": [
        "g"
      ]
    },
    {
      "cell_type": "code",
      "execution_count": null,
      "metadata": {
        "id": "ffI3uX6cwlgR",
        "colab": {
          "base_uri": "https://localhost:8080/"
        },
        "outputId": "bfe55eff-45b1-4ed0-d314-4303fe598458"
      },
      "outputs": [
        {
          "output_type": "stream",
          "name": "stdout",
          "text": [
            "Estimand type: nonparametric-ate\n",
            "\n",
            "### Estimand : 1\n",
            "Estimand name: backdoor\n",
            "Estimand expression:\n",
            "    d                                   \n",
            "─────────(Expectation(spend|income,age))\n",
            "d[member]                               \n",
            "Estimand assumption 1, Unconfoundedness: If U→{member} and U→spend then P(spend|member,income,age,U) = P(spend|member,income,age)\n",
            "\n",
            "### Estimand : 2\n",
            "Estimand name: iv\n",
            "No such variable(s) found!\n",
            "\n",
            "### Estimand : 3\n",
            "Estimand name: frontdoor\n",
            "No such variable(s) found!\n",
            "\n"
          ]
        }
      ],
      "source": [
        "estimand = model.identify_effect(proceed_when_unidentifiable=True)\n",
        "print(estimand)"
      ]
    },
    {
      "cell_type": "markdown",
      "metadata": {
        "id": "wHZix0uJwlgR"
      },
      "source": [
        "### Linear Regression Adjustment"
      ]
    },
    {
      "cell_type": "code",
      "execution_count": null,
      "metadata": {
        "id": "2MSMyrjMwlgR",
        "colab": {
          "base_uri": "https://localhost:8080/"
        },
        "outputId": "251cf79e-d9be-434b-d568-cb46288236a4"
      },
      "outputs": [
        {
          "output_type": "stream",
          "name": "stdout",
          "text": [
            "linear_regression\n",
            "{'control_value': 0, 'treatment_value': 1, 'test_significance': None, 'evaluate_effect_strength': False, 'confidence_intervals': False, 'target_units': 'ate', 'effect_modifiers': []}\n",
            "Causal Estimate with linear regression is 1003.3424733795405 with confidence interval [[ 999.91317767 1006.77176909]]\n"
          ]
        }
      ],
      "source": [
        "estimate = model.estimate_effect(estimand, method_name=\"backdoor.linear_regression\")\n",
        "print(f\"Causal Estimate with linear regression is {estimate.value} with confidence interval {estimate.get_confidence_intervals()}\")"
      ]
    },
    {
      "cell_type": "markdown",
      "metadata": {
        "id": "DAM19-yiwlgR"
      },
      "source": [
        "### Distance based Matching"
      ]
    },
    {
      "cell_type": "code",
      "execution_count": null,
      "metadata": {
        "id": "S9o6BmWOwlgS",
        "colab": {
          "base_uri": "https://localhost:8080/"
        },
        "outputId": "5525560e-6411-43ce-aaac-4882770192a3"
      },
      "outputs": [
        {
          "output_type": "stream",
          "name": "stdout",
          "text": [
            "distance_matching\n",
            "Causal Estimate with distance-based matching is 1006.6729\n"
          ]
        }
      ],
      "source": [
        "estimate = model.estimate_effect(\n",
        "    estimand, \n",
        "    method_name=\"backdoor.distance_matching\",\n",
        "    target_units=\"ate\",\n",
        "    method_params={'distance_metric':\"minkowski\", 'p':2},\n",
        ")\n",
        "print(f\"Causal Estimate with distance-based matching is {estimate.value}\")\n",
        "# Confidence intervals are slow to compute for distance-based matching\n",
        "#print(f\"Causal Estimate with distance-based matching is {estimate.value} with confidence interval {estimate.get_confidence_intervals()}\")"
      ]
    },
    {
      "cell_type": "markdown",
      "metadata": {
        "id": "9xOnndbpwlgS"
      },
      "source": [
        "### Propensity Matching"
      ]
    },
    {
      "cell_type": "code",
      "execution_count": null,
      "metadata": {
        "id": "vsS7NFpQwlgS",
        "colab": {
          "base_uri": "https://localhost:8080/"
        },
        "outputId": "ff4573de-0a8e-440b-c4f0-f71f8a83840c"
      },
      "outputs": [
        {
          "output_type": "stream",
          "name": "stdout",
          "text": [
            "propensity_score_matching\n",
            "Causal Estimate with distance-based matching is 1197.604\n"
          ]
        }
      ],
      "source": [
        "estimate = model.estimate_effect(\n",
        "    estimand, \n",
        "    method_name=\"backdoor.propensity_score_matching\",\n",
        "    target_units=\"ate\",\n",
        ")\n",
        "print(f\"Causal Estimate with distance-based matching is {estimate.value}\")\n",
        "\n",
        "# Confidence intervals are slow since they need to repeatedly fit the propensity score model\n",
        "#estimate.get_confidence_intervals()"
      ]
    },
    {
      "cell_type": "markdown",
      "metadata": {
        "id": "4HPqwrDzwlgS"
      },
      "source": [
        "### Inverse Propensity Score Weighting"
      ]
    },
    {
      "cell_type": "code",
      "execution_count": null,
      "metadata": {
        "id": "t99GnejawlgS",
        "colab": {
          "base_uri": "https://localhost:8080/"
        },
        "outputId": "cc86c9ec-71b7-4be6-9f26-c2921cd22331"
      },
      "outputs": [
        {
          "output_type": "stream",
          "name": "stdout",
          "text": [
            "propensity_score_weighting\n",
            "Causal Estimate with distance-based matching is 1282.9259859218314\n"
          ]
        }
      ],
      "source": [
        "estimate = model.estimate_effect(\n",
        "    estimand, \n",
        "    method_name=\"backdoor.propensity_score_weighting\",\n",
        "    target_units=\"ate\",\n",
        "    method_params={\"weighting_scheme\":\"ips_stabilized_weight\"},\n",
        ")\n",
        "print(f\"Causal Estimate with distance-based matching is {estimate.value}\")"
      ]
    },
    {
      "cell_type": "code",
      "execution_count": null,
      "metadata": {
        "id": "lPcSUQtTwlgS",
        "colab": {
          "base_uri": "https://localhost:8080/"
        },
        "outputId": "d2af89de-a52b-484f-8bac-be6b54a5a2ac"
      },
      "outputs": [
        {
          "output_type": "stream",
          "name": "stdout",
          "text": [
            "propensity_score_weighting\n",
            "Causal Estimate with inverse propensity weighting is 1282.9259859218314\n"
          ]
        }
      ],
      "source": [
        "# Redo propensity score estimation using XGboost to estimate propensities\n",
        "from xgboost import XGBClassifier\n",
        "estimate = model.estimate_effect(\n",
        "    estimand, \n",
        "    method_name=\"backdoor.propensity_score_weighting\",\n",
        "    \n",
        "    target_units=\"ate\",\n",
        "    method_params={\n",
        "        \"weighting_scheme\":\"ips_stabilized_weight\",\n",
        "        \"propensity_model\":XGBClassifier()\n",
        "    },\n",
        ")\n",
        "print(f\"Causal Estimate with inverse propensity weighting is {estimate.value}\")"
      ]
    },
    {
      "cell_type": "code",
      "execution_count": null,
      "metadata": {
        "id": "ibkCVOFBwlgS",
        "colab": {
          "base_uri": "https://localhost:8080/"
        },
        "outputId": "f294c2ab-9619-4959-e2ee-d33b611b82fb"
      },
      "outputs": [
        {
          "output_type": "execute_result",
          "data": {
            "text/plain": [
              "<seaborn.axisgrid.FacetGrid at 0x7fa48caaa3d0>"
            ]
          },
          "metadata": {},
          "execution_count": 35
        },
        {
          "output_type": "display_data",
          "data": {
            "text/plain": [
              "<Figure size 421.25x360 with 1 Axes>"
            ],
            "image/png": "[encoded data removed]"
          },
          "metadata": {
            "needs_background": "light"
          }
        }
      ],
      "source": [
        "sns.displot(df_big, x=\"propensity_score\", hue=\"member\", kind=\"kde\", common_norm=False)"
      ]
    },
    {
      "cell_type": "code",
      "execution_count": null,
      "metadata": {
        "id": "RGa60F2nwlgT"
      },
      "outputs": [],
      "source": []
    }
  ],
  "metadata": {
    "kernelspec": {
      "display_name": "Python 3.10.8 64-bit",
      "language": "python",
      "name": "python3"
    },
    "language_info": {
      "codemirror_mode": {
        "name": "ipython",
        "version": 3
      },
      "file_extension": ".py",
      "mimetype": "text/x-python",
      "name": "python",
      "nbconvert_exporter": "python",
      "pygments_lexer": "ipython3",
      "version": "3.10.8"
    },
    "orig_nbformat": 4,
    "vscode": {
      "interpreter": {
        "hash": "6ecdebf77f2ee3a47348d003f751c63e810ca996c1c68d1179f338200fa83b34"
      }
    },
    "colab": {
      "provenance": [],
      "include_colab_link": true
    }
  },
  "nbformat": 4,
  "nbformat_minor": 0
}